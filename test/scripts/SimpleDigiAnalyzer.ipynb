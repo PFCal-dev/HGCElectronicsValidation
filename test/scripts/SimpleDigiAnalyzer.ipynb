{
 "cells": [
  {
   "cell_type": "code",
   "execution_count": null,
   "id": "b3d6a6c3",
   "metadata": {},
   "outputs": [],
   "source": [
    "import os\n",
    "import ROOT\n",
    "import pandas as pd\n",
    "import PyRDF\n",
    "import numpy as np"
   ]
  },
  {
   "cell_type": "markdown",
   "id": "4a7606fd",
   "metadata": {},
   "source": [
    "## Process raw information from DIGI ntuplizer"
   ]
  },
  {
   "cell_type": "code",
   "execution_count": null,
   "id": "5c4eb561",
   "metadata": {},
   "outputs": [],
   "source": [
    "def processDigis(url='/eos/cms/store/cmst3/user/psilva/HGCAL/test.root',ran=None, minmips=1.0):\n",
    "    \n",
    "    \"\"\"\n",
    "    collects all the relevant information on event by event basis\n",
    "    url - location of the file\n",
    "    ran - event range (a,b)\n",
    "    minmips - minmimump simulated mips required\n",
    "    \"\"\"\n",
    "    \n",
    "    ROOT.ROOT.EnableImplicitMT()\n",
    "    rdf = ROOT.RDataFrame(\"ana/hits\", url)\n",
    "    \n",
    "    #filter event range if required\n",
    "    if not ran is None:\n",
    "        rdf=rdf.Filter('event>={} && event<={}'.format(*ran))\n",
    "\n",
    "    #filter the hits (at least 1 simulated MIP deposit)    \n",
    "    rdf=rdf.Filter(f'mipsim>={minmips}')\n",
    "    \n",
    "    #helper variables\n",
    "    #here the vertex corrected ToA could be defined already\n",
    "    rdf=rdf.Define('side','z<0 ? -1 : 1'). \\\n",
    "            Define('waferroc','roc+1000*u+1000000*v')  # just a dummy unique indexing\n",
    "    \n",
    "    #convert to a pandas dataframe which is easier to manipulate\n",
    "    #keep \n",
    "    columns=['event','side','layer','roc','gpt','geta','mipsim','toarec']\n",
    "    df=pd.DataFrame( rdf.AsNumpy(columns), columns=columns )\n",
    "    df.to_hdf(url.replace('.root','.h5'),key='hits')\n",
    "    print('\\tFilled with',df.shape[0],'hits to analyze from',len(df['event'].unique()),'events')\n",
    "        \n",
    "    return df"
   ]
  },
  {
   "cell_type": "code",
   "execution_count": 3,
   "id": "7e13fe63",
   "metadata": {},
   "outputs": [
    {
     "name": "stdout",
     "output_type": "stream",
     "text": [
      "\tFilled with 17731676 hits to analyze from 49993 events\n",
      "CPU times: user 27.6 s, sys: 3.99 s, total: 31.6 s\n",
      "Wall time: 39.8 s\n"
     ]
    }
   ],
   "source": [
    "%%time\n",
    "df=processDigis()"
   ]
  },
  {
   "cell_type": "code",
   "execution_count": 10,
   "id": "6ce5977b",
   "metadata": {},
   "outputs": [
    {
     "name": "stdout",
     "output_type": "stream",
     "text": [
      "CPU times: user 1.91 s, sys: 1.13 s, total: 3.03 s\n",
      "Wall time: 2.62 s\n"
     ]
    },
    {
     "data": {
      "text/html": [
       "<div>\n",
       "<style scoped>\n",
       "    .dataframe tbody tr th:only-of-type {\n",
       "        vertical-align: middle;\n",
       "    }\n",
       "\n",
       "    .dataframe tbody tr th {\n",
       "        vertical-align: top;\n",
       "    }\n",
       "\n",
       "    .dataframe thead th {\n",
       "        text-align: right;\n",
       "    }\n",
       "</style>\n",
       "<table border=\"1\" class=\"dataframe\">\n",
       "  <thead>\n",
       "    <tr style=\"text-align: right;\">\n",
       "      <th></th>\n",
       "      <th>gpt</th>\n",
       "      <th>geta</th>\n",
       "      <th>totalmips</th>\n",
       "      <th>totaltoa</th>\n",
       "      <th>avgtoa</th>\n",
       "      <th>mipavgtoa</th>\n",
       "    </tr>\n",
       "    <tr>\n",
       "      <th>event</th>\n",
       "      <th></th>\n",
       "      <th></th>\n",
       "      <th></th>\n",
       "      <th></th>\n",
       "      <th></th>\n",
       "      <th></th>\n",
       "    </tr>\n",
       "  </thead>\n",
       "  <tbody>\n",
       "    <tr>\n",
       "      <th>1</th>\n",
       "      <td>12.146950</td>\n",
       "      <td>2.000486</td>\n",
       "      <td>4011.705240</td>\n",
       "      <td>17621.984053</td>\n",
       "      <td>1.860807</td>\n",
       "      <td>4.392642</td>\n",
       "    </tr>\n",
       "    <tr>\n",
       "      <th>2</th>\n",
       "      <td>8.260753</td>\n",
       "      <td>1.999453</td>\n",
       "      <td>688.796636</td>\n",
       "      <td>2649.599305</td>\n",
       "      <td>1.872099</td>\n",
       "      <td>3.846708</td>\n",
       "    </tr>\n",
       "    <tr>\n",
       "      <th>3</th>\n",
       "      <td>5.104912</td>\n",
       "      <td>1.999826</td>\n",
       "      <td>724.788654</td>\n",
       "      <td>1840.928129</td>\n",
       "      <td>0.664366</td>\n",
       "      <td>2.539952</td>\n",
       "    </tr>\n",
       "    <tr>\n",
       "      <th>4</th>\n",
       "      <td>14.758848</td>\n",
       "      <td>1.999974</td>\n",
       "      <td>2954.904526</td>\n",
       "      <td>9434.431375</td>\n",
       "      <td>0.960392</td>\n",
       "      <td>3.192804</td>\n",
       "    </tr>\n",
       "    <tr>\n",
       "      <th>5</th>\n",
       "      <td>7.902452</td>\n",
       "      <td>2.000279</td>\n",
       "      <td>865.618412</td>\n",
       "      <td>3265.476774</td>\n",
       "      <td>1.543300</td>\n",
       "      <td>3.772421</td>\n",
       "    </tr>\n",
       "  </tbody>\n",
       "</table>\n",
       "</div>"
      ],
      "text/plain": [
       "             gpt      geta    totalmips      totaltoa    avgtoa  mipavgtoa\n",
       "event                                                                     \n",
       "1      12.146950  2.000486  4011.705240  17621.984053  1.860807   4.392642\n",
       "2       8.260753  1.999453   688.796636   2649.599305  1.872099   3.846708\n",
       "3       5.104912  1.999826   724.788654   1840.928129  0.664366   2.539952\n",
       "4      14.758848  1.999974  2954.904526   9434.431375  0.960392   3.192804\n",
       "5       7.902452  2.000279   865.618412   3265.476774  1.543300   3.772421"
      ]
     },
     "execution_count": 10,
     "metadata": {},
     "output_type": "execute_result"
    }
   ],
   "source": [
    "%%time\n",
    "\n",
    "#select the hits from where to compute the final ToA estimator\n",
    "selmips=(df['mipsim']>1) & (df['toarec']>0)\n",
    "df['selmips']=np.where(selmips,df['mipsim'],np.zeros(df.shape[0]))\n",
    "df['seltoa']=np.where(selmips,df['toarec'],np.zeros(df.shape[0]))\n",
    "df['mipsimtoa']=df['selmips']*df['seltoa']\n",
    "\n",
    "#aggregate by event and finalize average\n",
    "summary_df=df.groupby('event').agg(gpt=('gpt','mean'),\n",
    "                                   geta=('geta','mean'),\n",
    "                                   totalmips=('selmips','sum'),\n",
    "                                   totaltoa=('mipsimtoa','sum'),\n",
    "                                   avgtoa=('seltoa','mean'))\n",
    "summary_df['mipavgtoa']=summary_df['totaltoa']/summary_df['totalmips']\n",
    "\n",
    "summary_df.head()"
   ]
  },
  {
   "cell_type": "markdown",
   "id": "288e0590",
   "metadata": {},
   "source": [
    "## Plotting"
   ]
  },
  {
   "cell_type": "code",
   "execution_count": 24,
   "id": "930f8734",
   "metadata": {},
   "outputs": [
    {
     "name": "stderr",
     "output_type": "stream",
     "text": [
      "/tmp/ipykernel_576/1745120345.py:7: FutureWarning: Indexing with multiple keys (implicitly converted to a tuple of keys) will be deprecated, use a list instead.\n",
      "  summary_binned=summary_df.groupby('ptbin')['avgtoa','mipavgtoa'].agg(['mean','sem'])\n"
     ]
    },
    {
     "data": {
      "image/png": "[encoded data removed]",
      "text/plain": [
       "<Figure size 432x288 with 1 Axes>"
      ]
     },
     "metadata": {
      "needs_background": "light"
     },
     "output_type": "display_data"
    },
    {
     "data": {
      "image/png": "[encoded data removed]",
      "text/plain": [
       "<Figure size 432x288 with 1 Axes>"
      ]
     },
     "metadata": {
      "needs_background": "light"
     },
     "output_type": "display_data"
    }
   ],
   "source": [
    "import matplotlib.pyplot as plt\n",
    "\n",
    "\n",
    "#profile the toa in ptbins\n",
    "bins = np.linspace(0, 20, 10)\n",
    "summary_df['ptbin'] = np.digitize(summary_df['gpt'], bins=bins)\n",
    "summary_binned=summary_df.groupby('ptbin')['avgtoa','mipavgtoa'].agg(['mean','sem'])\n",
    "summary_binned['pt'] = 0.5 * (bins[:-1] + bins[1:])\n",
    "\n",
    "#bias\n",
    "plt.errorbar(x=summary_binned['pt'],y=summary_binned[('avgtoa','mean')],yerr=summary_binned[('avgtoa','sem')],label='simple average',fmt='')\n",
    "plt.errorbar(x=summary_binned['pt'],y=summary_binned[('mipavgtoa','mean')],yerr=summary_binned[('mipavgtoa','sem')],label='MIP-weighted average',fmt='')\n",
    "plt.legend()\n",
    "plt.xlabel(r'<$p_{T}$> [GeV]')\n",
    "plt.ylabel('<ToA> [ns]')\n",
    "plt.grid()\n",
    "plt.show()\n",
    "\n",
    "#resolution\n",
    "plt.errorbar(x=summary_binned['pt'],y=summary_binned[('avgtoa','sem')]*1e3,label='simple average',fmt='')\n",
    "plt.errorbar(x=summary_binned['pt'],y=summary_binned[('mipavgtoa','sem')]*1e3,label='MIP-weighted average',fmt='')\n",
    "plt.legend()\n",
    "plt.xlabel(r'<$p_{T}$> [GeV]')\n",
    "plt.ylabel('$\\sigma_{ToA}$ [ps]')\n",
    "plt.grid()\n",
    "plt.show()"
   ]
  },
  {
   "cell_type": "code",
   "execution_count": null,
   "id": "479c308c",
   "metadata": {},
   "outputs": [],
   "source": []
  }
 ],
 "metadata": {
  "kernelspec": {
   "display_name": "Python 3",
   "language": "python",
   "name": "python3"
  },
  "language_info": {
   "codemirror_mode": {
    "name": "ipython",
    "version": 3
   },
   "file_extension": ".py",
   "mimetype": "text/x-python",
   "name": "python",
   "nbconvert_exporter": "python",
   "pygments_lexer": "ipython3",
   "version": "3.9.6"
  }
 },
 "nbformat": 4,
 "nbformat_minor": 5
}
